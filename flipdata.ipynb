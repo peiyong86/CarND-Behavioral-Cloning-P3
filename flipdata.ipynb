{
 "cells": [
  {
   "cell_type": "code",
   "execution_count": 1,
   "metadata": {
    "collapsed": false
   },
   "outputs": [],
   "source": [
    "import os\n",
    "import csv\n",
    "from distutils.dir_util import mkpath\n",
    "import cv2"
   ]
  },
  {
   "cell_type": "code",
   "execution_count": 2,
   "metadata": {
    "collapsed": true
   },
   "outputs": [],
   "source": [
    "def flipcsv(src, dst):\n",
    "    with open(src, 'r') as fin:\n",
    "        with open(dst, 'w') as fout:\n",
    "            reader = csv.reader(fin)\n",
    "            writer = csv.writer(fout)\n",
    "            lines = [line for line in reader]\n",
    "            for line in lines[1:]:\n",
    "                line[3] = str(-float(line[3]))\n",
    "                writer.writerow(line)"
   ]
  },
  {
   "cell_type": "code",
   "execution_count": 3,
   "metadata": {
    "collapsed": true
   },
   "outputs": [],
   "source": [
    "def flipimage(src, dst):\n",
    "    imagelist = os.listdir(src)\n",
    "    for imname in imagelist:\n",
    "        inputname = os.path.join(src, imname)\n",
    "        outputname = os.path.join(dst, imname)\n",
    "        im = cv2.imread(inputname)\n",
    "        im = cv2.flip(im, 1)\n",
    "        cv2.imwrite(outputname, im)"
   ]
  },
  {
   "cell_type": "code",
   "execution_count": 4,
   "metadata": {
    "collapsed": true
   },
   "outputs": [],
   "source": [
    "def flipdata(src, dst):\n",
    "    if not os.path.exists(os.path.join(dst, 'IMG')):\n",
    "        mkpath(os.path.join(dst, 'IMG'))\n",
    "    flipcsv(os.path.join(src, 'driving_log.csv'), os.path.join(dst, 'driving_log.csv'))\n",
    "    flipimage(os.path.join(src, 'IMG'), os.path.join(dst, 'IMG'))"
   ]
  },
  {
   "cell_type": "code",
   "execution_count": 5,
   "metadata": {
    "collapsed": true
   },
   "outputs": [],
   "source": [
    "inputpath = './tempdata'\n",
    "outputpath = './fliptempdata'"
   ]
  },
  {
   "cell_type": "code",
   "execution_count": 6,
   "metadata": {
    "collapsed": false
   },
   "outputs": [
    {
     "name": "stdout",
     "output_type": "stream",
     "text": [
      "['hardcase2']\n"
     ]
    }
   ],
   "source": [
    "allsamples = []\n",
    "alllabels = []\n",
    "datafolderlist = os.listdir(inputpath)\n",
    "print(datafolderlist)"
   ]
  },
  {
   "cell_type": "code",
   "execution_count": 7,
   "metadata": {
    "collapsed": false
   },
   "outputs": [],
   "source": [
    "for datafolder in datafolderlist:\n",
    "    src = os.path.join(inputpath, datafolder)\n",
    "    dst = os.path.join(outputpath, datafolder+'_jitter')\n",
    "    flipdata(src, dst)"
   ]
  },
  {
   "cell_type": "code",
   "execution_count": 8,
   "metadata": {
    "collapsed": false
   },
   "outputs": [
    {
     "name": "stdout",
     "output_type": "stream",
     "text": [
      "README.md             \u001b[0m\u001b[01;34malldata\u001b[0m/        \u001b[01;34mfliptempdata\u001b[0m/  video.py\r\n",
      "Untitled-Copy1.ipynb  \u001b[01;31mdata.zip\u001b[0m        model.h5       writeup_template.md\r\n",
      "Untitled.ipynb        drive.py        readdata.py\r\n",
      "\u001b[01;34m__MACOSX\u001b[0m/             \u001b[01;34mexamples\u001b[0m/       \u001b[01;34msdata\u001b[0m/\r\n",
      "\u001b[01;34m__pycache__\u001b[0m/          flipdata.ipynb  \u001b[01;34mtempdata\u001b[0m/\r\n"
     ]
    }
   ],
   "source": [
    "ls"
   ]
  },
  {
   "cell_type": "code",
   "execution_count": null,
   "metadata": {
    "collapsed": true
   },
   "outputs": [],
   "source": []
  },
  {
   "cell_type": "code",
   "execution_count": null,
   "metadata": {
    "collapsed": true
   },
   "outputs": [],
   "source": []
  },
  {
   "cell_type": "code",
   "execution_count": null,
   "metadata": {
    "collapsed": true
   },
   "outputs": [],
   "source": []
  },
  {
   "cell_type": "code",
   "execution_count": null,
   "metadata": {
    "collapsed": false
   },
   "outputs": [],
   "source": []
  },
  {
   "cell_type": "code",
   "execution_count": null,
   "metadata": {
    "collapsed": true
   },
   "outputs": [],
   "source": []
  }
 ],
 "metadata": {
  "kernelspec": {
   "display_name": "Python 3",
   "language": "python",
   "name": "python3"
  },
  "language_info": {
   "codemirror_mode": {
    "name": "ipython",
    "version": 3
   },
   "file_extension": ".py",
   "mimetype": "text/x-python",
   "name": "python",
   "nbconvert_exporter": "python",
   "pygments_lexer": "ipython3",
   "version": "3.6.0"
  }
 },
 "nbformat": 4,
 "nbformat_minor": 2
}
