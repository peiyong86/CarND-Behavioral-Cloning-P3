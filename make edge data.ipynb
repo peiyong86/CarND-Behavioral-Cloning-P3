{
 "cells": [
  {
   "cell_type": "code",
   "execution_count": 17,
   "metadata": {
    "collapsed": false
   },
   "outputs": [],
   "source": [
    "import os\n",
    "import csv\n",
    "from distutils.dir_util import mkpath\n",
    "import cv2\n",
    "import shutil"
   ]
  },
  {
   "cell_type": "code",
   "execution_count": 18,
   "metadata": {
    "collapsed": true
   },
   "outputs": [],
   "source": [
    "def edgecsv(src, dst, edgev):\n",
    "    with open(src, 'r') as fin:\n",
    "        with open(dst, 'w') as fout:\n",
    "            reader = csv.reader(fin)\n",
    "            writer = csv.writer(fout)\n",
    "            lines = [line for line in reader]\n",
    "            for line in lines[1:]:\n",
    "                line[3] = str(float(line[3]) + edgev)\n",
    "                writer.writerow(line)"
   ]
  },
  {
   "cell_type": "code",
   "execution_count": 19,
   "metadata": {
    "collapsed": true
   },
   "outputs": [],
   "source": [
    "def edgedata(src, dst):\n",
    "    if not os.path.exists(dst):\n",
    "        mkpath(dst)\n",
    "    edgecsv(os.path.join(src, 'driving_log.csv'), os.path.join(dst, 'driving_log.csv'), -0.25)\n",
    "    shutil.copytree(os.path.join(src, 'IMG'), os.path.join(dst, 'IMG'))"
   ]
  },
  {
   "cell_type": "code",
   "execution_count": 20,
   "metadata": {
    "collapsed": false
   },
   "outputs": [],
   "source": [
    "inputpath = './edgedata/edgeright3'\n",
    "outputpath = './edgedata/edgeright3_0.25'\n",
    "edgedata(inputpath, outputpath)"
   ]
  },
  {
   "cell_type": "code",
   "execution_count": 21,
   "metadata": {
    "collapsed": false
   },
   "outputs": [
    {
     "name": "stdout",
     "output_type": "stream",
     "text": [
      "README.md             drive.py                     model2_data_chy1_chy1r.h5\r\n",
      "Untitled-Copy1.ipynb  \u001b[0m\u001b[01;34medgedata\u001b[0m/                    model_data.h5\r\n",
      "Untitled.ipynb        \u001b[01;34mexamples\u001b[0m/                    model_data_chy1_chy1r.h5\r\n",
      "\u001b[01;34m__MACOSX\u001b[0m/             flipdata.ipynb               readdata.py\r\n",
      "\u001b[01;34m__pycache__\u001b[0m/          jitterdata.ipynb             \u001b[01;34msdata\u001b[0m/\r\n",
      "\u001b[01;34malldata\u001b[0m/              make edge data.ipynb         \u001b[01;34mtraingingdata\u001b[0m/\r\n",
      "\u001b[01;34malldata2\u001b[0m/             model.h5                     video.py\r\n",
      "\u001b[01;31mdata.zip\u001b[0m              model2-1_data_chy1_chy1r.h5  writeup_template.md\r\n",
      "\u001b[01;34mdataback\u001b[0m/             model2-2_data_chy1_chy1r.h5\r\n"
     ]
    }
   ],
   "source": [
    "ls"
   ]
  },
  {
   "cell_type": "code",
   "execution_count": 22,
   "metadata": {
    "collapsed": false
   },
   "outputs": [
    {
     "name": "stdout",
     "output_type": "stream",
     "text": [
      "\u001b[0m\u001b[01;34medgeright3\u001b[0m/      \u001b[01;34medgeright3_0.25\u001b[0m/  \u001b[01;34medgeright3_0.5\u001b[0m/\r\n",
      "\u001b[01;34medgeright3_0.2\u001b[0m/  \u001b[01;34medgeright3_0.35\u001b[0m/\r\n"
     ]
    }
   ],
   "source": [
    "ls edgedata"
   ]
  },
  {
   "cell_type": "code",
   "execution_count": null,
   "metadata": {
    "collapsed": true
   },
   "outputs": [],
   "source": []
  }
 ],
 "metadata": {
  "kernelspec": {
   "display_name": "Python 3",
   "language": "python",
   "name": "python3"
  },
  "language_info": {
   "codemirror_mode": {
    "name": "ipython",
    "version": 3
   },
   "file_extension": ".py",
   "mimetype": "text/x-python",
   "name": "python",
   "nbconvert_exporter": "python",
   "pygments_lexer": "ipython3",
   "version": "3.6.0"
  }
 },
 "nbformat": 4,
 "nbformat_minor": 2
}
