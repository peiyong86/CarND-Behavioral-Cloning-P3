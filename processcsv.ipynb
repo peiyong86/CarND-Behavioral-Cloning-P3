{
 "cells": [
  {
   "cell_type": "code",
   "execution_count": 30,
   "metadata": {
    "collapsed": false
   },
   "outputs": [],
   "source": [
    "import os\n",
    "import csv"
   ]
  },
  {
   "cell_type": "code",
   "execution_count": 31,
   "metadata": {
    "collapsed": true
   },
   "outputs": [],
   "source": [
    "datapaths = ['./alldata2/data/', './alldata2/chy1/', './alldata2/chy1r/']"
   ]
  },
  {
   "cell_type": "code",
   "execution_count": 32,
   "metadata": {
    "collapsed": false
   },
   "outputs": [],
   "source": [
    "\n",
    "correction = 0.3"
   ]
  },
  {
   "cell_type": "code",
   "execution_count": 33,
   "metadata": {
    "collapsed": true
   },
   "outputs": [],
   "source": [
    "def flatcsv(src, dst):\n",
    "    with open(src, 'r') as fin:\n",
    "        with open(dst, 'w') as fout:\n",
    "            reader = csv.reader(fin)\n",
    "            writer = csv.writer(fout)\n",
    "            lines = [line for line in reader]\n",
    "            for line in lines[1:]:\n",
    "                writer.writerow(line)\n",
    "                steering_center = float(line[3])\n",
    "                steering_left = steering_center + correction + 0.3\n",
    "                steering_right = steering_center - correction\n",
    "                line[0] = line[1]\n",
    "                line[3] = str(steering_left)\n",
    "                writer.writerow(line)\n",
    "                line[0] = line[2]\n",
    "                line[3] = str(steering_right)\n",
    "                writer.writerow(line)"
   ]
  },
  {
   "cell_type": "code",
   "execution_count": 34,
   "metadata": {
    "collapsed": false
   },
   "outputs": [],
   "source": [
    "for datapath in datapaths:\n",
    "    csv1 = os.path.join(datapath, 'driving_log_raw.csv')\n",
    "    csv2 = os.path.join(datapath, 'driving_log.csv')\n",
    "    flatcsv(csv1, csv2)"
   ]
  },
  {
   "cell_type": "code",
   "execution_count": null,
   "metadata": {
    "collapsed": true
   },
   "outputs": [],
   "source": []
  }
 ],
 "metadata": {
  "kernelspec": {
   "display_name": "Python 3",
   "language": "python",
   "name": "python3"
  },
  "language_info": {
   "codemirror_mode": {
    "name": "ipython",
    "version": 3
   },
   "file_extension": ".py",
   "mimetype": "text/x-python",
   "name": "python",
   "nbconvert_exporter": "python",
   "pygments_lexer": "ipython3",
   "version": "3.6.0"
  }
 },
 "nbformat": 4,
 "nbformat_minor": 2
}
