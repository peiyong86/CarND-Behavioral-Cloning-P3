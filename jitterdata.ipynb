{
 "cells": [
  {
   "cell_type": "code",
   "execution_count": 1,
   "metadata": {
    "collapsed": false
   },
   "outputs": [],
   "source": [
    "import os\n",
    "import csv\n",
    "from distutils.dir_util import mkpath\n",
    "import cv2\n",
    "import shutil\n",
    "import scipy.ndimage\n",
    "import numpy as np\n",
    "from multiprocessing.dummy import Pool as ThreadPool"
   ]
  },
  {
   "cell_type": "code",
   "execution_count": 2,
   "metadata": {
    "collapsed": true
   },
   "outputs": [],
   "source": [
    "def jitter(im):\n",
    "    # shift\n",
    "    shiftdis = (np.random.randint(-5, 5), np.random.randint(-5, 5), 0)\n",
    "    im2 = scipy.ndimage.shift(im, shiftdis, cval=0)\n",
    "    \n",
    "    # rotate\n",
    "    im2 = scipy.ndimage.rotate(im2, np.random.randint(-10,10), reshape=False)\n",
    "    \n",
    "    return im2"
   ]
  },
  {
   "cell_type": "code",
   "execution_count": 3,
   "metadata": {
    "collapsed": true
   },
   "outputs": [],
   "source": [
    "def jitterimage(src, dst):\n",
    "    imagelist = os.listdir(src)\n",
    "    for imname in imagelist:\n",
    "        inputname = os.path.join(src, imname)\n",
    "        outputname = os.path.join(dst, imname)\n",
    "        im = cv2.imread(inputname)\n",
    "        im = jitter(im)\n",
    "        cv2.imwrite(outputname, im)"
   ]
  },
  {
   "cell_type": "code",
   "execution_count": 4,
   "metadata": {
    "collapsed": true
   },
   "outputs": [],
   "source": [
    "def jitterdata(srcdst):\n",
    "    src, dst = srcdst\n",
    "    if not os.path.exists(os.path.join(dst, 'IMG')):\n",
    "        mkpath(os.path.join(dst, 'IMG'))\n",
    "    shutil.copyfile(os.path.join(src, 'driving_log.csv'), os.path.join(dst, 'driving_log.csv'))\n",
    "    jitterimage(os.path.join(src, 'IMG'), os.path.join(dst, 'IMG'))"
   ]
  },
  {
   "cell_type": "code",
   "execution_count": 5,
   "metadata": {
    "collapsed": true
   },
   "outputs": [],
   "source": [
    "inputpath = './alldata'\n",
    "outputpath = './alldata_jitter'"
   ]
  },
  {
   "cell_type": "code",
   "execution_count": 6,
   "metadata": {
    "collapsed": false
   },
   "outputs": [
    {
     "name": "stdout",
     "output_type": "stream",
     "text": [
      "['hardcase1_flip', 'hardcase1', 'chy1_flip', 'chy1r_flip', 'chy1', 'hardcase2', 'py1_flip', 'py1', 'py1-2_flip', 'hardcase2_flip', 'data_flip', 'chy1r', 'data', 'py1-2']\n"
     ]
    }
   ],
   "source": [
    "allsamples = []\n",
    "alllabels = []\n",
    "datafolderlist = os.listdir(inputpath)\n",
    "print(datafolderlist)"
   ]
  },
  {
   "cell_type": "markdown",
   "metadata": {
    "collapsed": false
   },
   "source": [
    "for datafolder in datafolderlist:\n",
    "    src = os.path.join(inputpath, datafolder)\n",
    "    dst = os.path.join(outputpath, datafolder+'_flip')\n",
    "    jitterdata(src, dst)"
   ]
  },
  {
   "cell_type": "code",
   "execution_count": null,
   "metadata": {
    "collapsed": true
   },
   "outputs": [],
   "source": [
    "src = []\n",
    "dst = []\n",
    "for datafolder in datafolderlist:\n",
    "    src.append(os.path.join(inputpath, datafolder))\n",
    "    dst.append(os.path.join(outputpath, datafolder+'_flip'))\n",
    "srcdst = [pair for pair in zip(src, dst)]"
   ]
  },
  {
   "cell_type": "code",
   "execution_count": null,
   "metadata": {
    "collapsed": false
   },
   "outputs": [],
   "source": [
    "pool = ThreadPool(14)\n",
    "pool.map(jitterdata, srcdst)"
   ]
  },
  {
   "cell_type": "code",
   "execution_count": null,
   "metadata": {
    "collapsed": false
   },
   "outputs": [],
   "source": [
    "srcdst"
   ]
  },
  {
   "cell_type": "code",
   "execution_count": null,
   "metadata": {
    "collapsed": true
   },
   "outputs": [],
   "source": []
  },
  {
   "cell_type": "code",
   "execution_count": null,
   "metadata": {
    "collapsed": true
   },
   "outputs": [],
   "source": []
  },
  {
   "cell_type": "code",
   "execution_count": null,
   "metadata": {
    "collapsed": false
   },
   "outputs": [],
   "source": []
  },
  {
   "cell_type": "code",
   "execution_count": null,
   "metadata": {
    "collapsed": true
   },
   "outputs": [],
   "source": []
  }
 ],
 "metadata": {
  "kernelspec": {
   "display_name": "Python 3",
   "language": "python",
   "name": "python3"
  },
  "language_info": {
   "codemirror_mode": {
    "name": "ipython",
    "version": 3
   },
   "file_extension": ".py",
   "mimetype": "text/x-python",
   "name": "python",
   "nbconvert_exporter": "python",
   "pygments_lexer": "ipython3",
   "version": "3.6.0"
  }
 },
 "nbformat": 4,
 "nbformat_minor": 2
}
